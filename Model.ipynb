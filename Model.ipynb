{
 "cells": [
  {
   "cell_type": "code",
   "execution_count": 1,
   "id": "8ac5d55a",
   "metadata": {
    "_cell_guid": "b1076dfc-b9ad-4769-8c92-a6c4dae69d19",
    "_uuid": "8f2839f25d086af736a60e9eeb907d3b93b6e0e5",
    "execution": {
     "iopub.execute_input": "2024-04-12T12:08:00.495785Z",
     "iopub.status.busy": "2024-04-12T12:08:00.495353Z",
     "iopub.status.idle": "2024-04-12T12:08:01.409539Z",
     "shell.execute_reply": "2024-04-12T12:08:01.408296Z"
    },
    "papermill": {
     "duration": 0.934734,
     "end_time": "2024-04-12T12:08:01.412731",
     "exception": false,
     "start_time": "2024-04-12T12:08:00.477997",
     "status": "completed"
    },
    "tags": []
   },
   "outputs": [
    {
     "name": "stdout",
     "output_type": "stream",
     "text": [
      "/kaggle/input/who-is-the-real-winner/sample_submission.csv\n",
      "/kaggle/input/who-is-the-real-winner/train.csv\n",
      "/kaggle/input/who-is-the-real-winner/test.csv\n"
     ]
    }
   ],
   "source": [
    "# This Python 3 environment comes with many helpful analytics libraries installed\n",
    "# It is defined by the kaggle/python Docker image: https://github.com/kaggle/docker-python\n",
    "# For example, here's several helpful packages to load\n",
    "\n",
    "import numpy as np # linear algebra\n",
    "import pandas as pd # data processing, CSV file I/O (e.g. pd.read_csv)\n",
    "\n",
    "# Input data files are available in the read-only \"../input/\" directory\n",
    "# For example, running this (by clicking run or pressing Shift+Enter) will list all files under the input directory\n",
    "\n",
    "import os\n",
    "for dirname, _, filenames in os.walk('/kaggle/input'):\n",
    "    for filename in filenames:\n",
    "        print(os.path.join(dirname, filename))\n",
    "\n",
    "# You can write up to 20GB to the current directory (/kaggle/working/) that gets preserved as output when you create a version using \"Save & Run All\" \n",
    "# You can also write temporary files to /kaggle/temp/, but they won't be saved outside of the current session"
   ]
  },
  {
   "cell_type": "code",
   "execution_count": 2,
   "id": "ec9a2644",
   "metadata": {
    "execution": {
     "iopub.execute_input": "2024-04-12T12:08:01.443887Z",
     "iopub.status.busy": "2024-04-12T12:08:01.443339Z",
     "iopub.status.idle": "2024-04-12T12:08:01.472278Z",
     "shell.execute_reply": "2024-04-12T12:08:01.471394Z"
    },
    "papermill": {
     "duration": 0.047554,
     "end_time": "2024-04-12T12:08:01.474738",
     "exception": false,
     "start_time": "2024-04-12T12:08:01.427184",
     "status": "completed"
    },
    "tags": []
   },
   "outputs": [],
   "source": [
    "train_data = pd.read_csv(\"/kaggle/input/who-is-the-real-winner/train.csv\")"
   ]
  },
  {
   "cell_type": "code",
   "execution_count": 3,
   "id": "9f5a53c2",
   "metadata": {
    "execution": {
     "iopub.execute_input": "2024-04-12T12:08:01.504656Z",
     "iopub.status.busy": "2024-04-12T12:08:01.504206Z",
     "iopub.status.idle": "2024-04-12T12:08:01.513119Z",
     "shell.execute_reply": "2024-04-12T12:08:01.511909Z"
    },
    "papermill": {
     "duration": 0.026537,
     "end_time": "2024-04-12T12:08:01.515412",
     "exception": false,
     "start_time": "2024-04-12T12:08:01.488875",
     "status": "completed"
    },
    "tags": []
   },
   "outputs": [
    {
     "data": {
      "text/plain": [
       "Index(['ID', 'Candidate', 'Constituency ∇', 'Party', 'Criminal Case',\n",
       "       'Total Assets', 'Liabilities', 'state', 'Education'],\n",
       "      dtype='object')"
      ]
     },
     "execution_count": 3,
     "metadata": {},
     "output_type": "execute_result"
    }
   ],
   "source": [
    "train_data.columns"
   ]
  },
  {
   "cell_type": "code",
   "execution_count": 4,
   "id": "dd5dd69f",
   "metadata": {
    "execution": {
     "iopub.execute_input": "2024-04-12T12:08:01.547410Z",
     "iopub.status.busy": "2024-04-12T12:08:01.546673Z",
     "iopub.status.idle": "2024-04-12T12:08:01.562569Z",
     "shell.execute_reply": "2024-04-12T12:08:01.561077Z"
    },
    "papermill": {
     "duration": 0.03459,
     "end_time": "2024-04-12T12:08:01.565450",
     "exception": false,
     "start_time": "2024-04-12T12:08:01.530860",
     "status": "completed"
    },
    "tags": []
   },
   "outputs": [
    {
     "data": {
      "text/plain": [
       "ID                0\n",
       "Candidate         0\n",
       "Constituency ∇    0\n",
       "Party             0\n",
       "Criminal Case     0\n",
       "Total Assets      0\n",
       "Liabilities       0\n",
       "state             0\n",
       "Education         0\n",
       "dtype: int64"
      ]
     },
     "execution_count": 4,
     "metadata": {},
     "output_type": "execute_result"
    }
   ],
   "source": [
    "train_data.isnull().sum()"
   ]
  },
  {
   "cell_type": "code",
   "execution_count": 5,
   "id": "06dfefaa",
   "metadata": {
    "execution": {
     "iopub.execute_input": "2024-04-12T12:08:01.597660Z",
     "iopub.status.busy": "2024-04-12T12:08:01.596387Z",
     "iopub.status.idle": "2024-04-12T12:08:01.609878Z",
     "shell.execute_reply": "2024-04-12T12:08:01.608677Z"
    },
    "papermill": {
     "duration": 0.032461,
     "end_time": "2024-04-12T12:08:01.612382",
     "exception": false,
     "start_time": "2024-04-12T12:08:01.579921",
     "status": "completed"
    },
    "tags": []
   },
   "outputs": [
    {
     "data": {
      "text/plain": [
       "array(['8th Pass', '12th Pass', 'Post Graduate', 'Graduate Professional',\n",
       "       'Graduate', '10th Pass', 'Others', 'Doctorate', 'Literate',\n",
       "       '5th Pass'], dtype=object)"
      ]
     },
     "execution_count": 5,
     "metadata": {},
     "output_type": "execute_result"
    }
   ],
   "source": [
    "train_data['Education'].unique()"
   ]
  },
  {
   "cell_type": "code",
   "execution_count": 6,
   "id": "1a274dc4",
   "metadata": {
    "execution": {
     "iopub.execute_input": "2024-04-12T12:08:01.645470Z",
     "iopub.status.busy": "2024-04-12T12:08:01.644684Z",
     "iopub.status.idle": "2024-04-12T12:08:01.654465Z",
     "shell.execute_reply": "2024-04-12T12:08:01.652984Z"
    },
    "papermill": {
     "duration": 0.029688,
     "end_time": "2024-04-12T12:08:01.657097",
     "exception": false,
     "start_time": "2024-04-12T12:08:01.627409",
     "status": "completed"
    },
    "tags": []
   },
   "outputs": [
    {
     "data": {
      "text/plain": [
       "array(['211 Crore+', '1 Crore+', '7 Crore+', '9 Crore+', '2 Crore+',\n",
       "       '3 Crore+', '5 Crore+', '22 Crore+', '0', '8 Crore+', '12 Crore+',\n",
       "       '63 Crore+', '11 Lac+', '31 Crore+', '60 Lac+', '11 Crore+',\n",
       "       '17 Crore+', '18 Lac+', '41 Crore+', '4 Crore+', '6 Crore+',\n",
       "       '95 Lac+', '21 Crore+', '10 Crore+', '19 Crore+', '5 Lac+',\n",
       "       '64 Crore+', '50 Lac+', '8 Lac+', '57 Lac+', '16 Lac+', '90 Lac+',\n",
       "       '37 Lac+', '14 Crore+', '40 Crore+', '21 Lac+', '82 Lac+',\n",
       "       '79 Lac+', '13 Crore+', '96 Lac+', '159 Crore+', '73 Thou+',\n",
       "       '80 Crore+', '78 Lac+', '27 Crore+', '94 Lac+', '20 Crore+',\n",
       "       '49 Lac+', '19 Lac+', '27 Lac+', '65 Crore+', '81 Crore+',\n",
       "       '6 Lac+', '66 Lac+', '35 Crore+', '28 Lac+', '109 Crore+',\n",
       "       '10 Lac+', '13 Lac+', '38 Lac+', '64 Lac+', '39 Lac+', '43 Lac+',\n",
       "       '25 Crore+', '91 Lac+', '22 Lac+', '12 Lac+', '49 Crore+',\n",
       "       '70 Lac+', '36 Lac+', '30 Crore+', '62 Lac+', '65 Lac+', '26 Lac+',\n",
       "       '67 Lac+', '69 Crore+', '40 Lac+', '15 Thou+', '1 Lac+', '76 Lac+',\n",
       "       '44 Crore+', '16 Crore+', '63 Lac+', '29 Crore+', '52 Crore+',\n",
       "       '88 Lac+', '189 Crore+', '23 Crore+', '39 Crore+', '141 Crore+',\n",
       "       '18 Crore+', '33 Crore+', '56 Lac+', '274 Crore+', '98 Lac+',\n",
       "       '93 Lac+', '296 Crore+', '37 Crore+', '32 Lac+', '26 Crore+',\n",
       "       '14 Lac+', '15 Crore+', '99 Lac+', '92 Lac+', '32 Crore+',\n",
       "       '25 Lac+', '68 Lac+', '35 Lac+', '29 Lac+', '15 Lac+', '53 Lac+',\n",
       "       '128 Crore+', '24 Lac+', '89 Lac+', '43 Crore+', '66 Crore+',\n",
       "       '61 Lac+', '18 Thou+', '45 Lac+', '58 Lac+', '4 Lac+', '70 Crore+',\n",
       "       '53 Crore+', '138 Crore+', '42 Lac+', '92 Crore+', '9 Lac+',\n",
       "       '46 Crore+', '42 Crore+', '110 Crore+', '59 Crore+', '134 Crore+',\n",
       "       '51 Thou+', '33 Lac+', '363 Crore+', '668 Crore+', '112 Crore+',\n",
       "       '45 Crore+', '28 Crore+', '38 Crore+', '191 Crore+', '51 Crore+',\n",
       "       '55 Lac+', '68 Crore+', '47 Lac+', '135 Crore+', '72 Crore+',\n",
       "       '51 Lac+', '84 Lac+', '83 Lac+', '24 Crore+', '31 Lac+', '71 Lac+',\n",
       "       '20 Lac+', '52 Lac+', '3 Lac+', '56 Crore+', '71 Crore+',\n",
       "       '79 Crore+', '81 Lac+', '61 Crore+', '187 Crore+', '75 Lac+',\n",
       "       '48 Crore+', '54 Lac+', '122 Crore+', '34 Lac+', '59 Lac+',\n",
       "       '75 Crore+', '97 Lac+', '87 Lac+', '293 Crore+', '34 Crore+',\n",
       "       '23 Lac+', '1267 Crore+', '58 Crore+', '36 Crore+', '105 Crore+',\n",
       "       '85 Lac+', '1156 Crore+', '74 Crore+', '24 Thou+', '2 Lac+',\n",
       "       '77 Lac+', '67 Crore+', '41 Lac+', '46 Lac+', '86 Lac+', '17 Lac+',\n",
       "       '73 Lac+', '44 Lac+', '313 Crore+', '115 Crore+', '72 Thou+',\n",
       "       '54 Crore+', '72 Lac+', '80 Lac+', '111 Crore+', '84 Crore+',\n",
       "       '30 Thou+', '242 Crore+', '102 Crore+', '106 Crore+', '183 Crore+',\n",
       "       '62 Crore+', '89 Crore+', '163 Crore+', '500 Crore+', '74 Lac+',\n",
       "       '312 Crore+'], dtype=object)"
      ]
     },
     "execution_count": 6,
     "metadata": {},
     "output_type": "execute_result"
    }
   ],
   "source": [
    "train_data['Total Assets'].unique()"
   ]
  },
  {
   "cell_type": "code",
   "execution_count": 7,
   "id": "29227a75",
   "metadata": {
    "execution": {
     "iopub.execute_input": "2024-04-12T12:08:01.689549Z",
     "iopub.status.busy": "2024-04-12T12:08:01.688832Z",
     "iopub.status.idle": "2024-04-12T12:08:01.696432Z",
     "shell.execute_reply": "2024-04-12T12:08:01.695549Z"
    },
    "papermill": {
     "duration": 0.026874,
     "end_time": "2024-04-12T12:08:01.699021",
     "exception": false,
     "start_time": "2024-04-12T12:08:01.672147",
     "status": "completed"
    },
    "tags": []
   },
   "outputs": [
    {
     "data": {
      "text/plain": [
       "array(['2 Crore+', '0', '22 Lac+', '24 Lac+', '61 Lac+', '29 Lac+',\n",
       "       '35 Lac+', '10 Lac+', '1 Lac+', '15 Lac+', '73 Lac+', '5 Lac+',\n",
       "       '6 Lac+', '1 Crore+', '4 Lac+', '42 Lac+', '4 Crore+', '3 Lac+',\n",
       "       '18 Lac+', '17 Crore+', '39 Lac+', '26 Lac+', '8 Lac+', '3 Crore+',\n",
       "       '7 Crore+', '9 Lac+', '28 Lac+', '14 Lac+', '37 Lac+', '47 Lac+',\n",
       "       '6 Crore+', '23 Lac+', '90 Lac+', '7 Lac+', '53 Lac+', '75 Lac+',\n",
       "       '44 Lac+', '60 Thou+', '21 Lac+', '55 Lac+', '17 Lac+', '2 Lac+',\n",
       "       '49 Lac+', '91 Lac+', '11 Crore+', '16 Lac+', '89 Lac+', '12 Lac+',\n",
       "       '62 Lac+', '34 Lac+', '37 Crore+', '15 Crore+', '20 Lac+',\n",
       "       '70 Lac+', '61 Thou+', '32 Lac+', '50 Lac+', '48 Lac+',\n",
       "       '43 Crore+', '5 Crore+', '31 Lac+', '30 Lac+', '11 Lac+',\n",
       "       '80 Lac+', '46 Lac+', '60 Lac+', '9 Crore+', '9 Hund+', '30 Thou+',\n",
       "       '99 Lac+', '46 Thou+', '59 Lac+', '22 Crore+', '95 Lac+',\n",
       "       '13 Lac+', '96 Lac+', '27 Lac+', '36 Crore+', '19 Lac+', '57 Lac+',\n",
       "       '82 Lac+', '94 Lac+', '33 Lac+', '38 Lac+', '66 Lac+', '24 Crore+',\n",
       "       '43 Lac+', '8 Crore+', '10 Crore+', '81 Lac+', '36 Lac+',\n",
       "       '45 Lac+', '18 Crore+', '72 Lac+', '77 Crore+', '74 Lac+',\n",
       "       '54 Lac+', '50 Thou+', '78 Lac+', '13 Crore+', '10 Thou+',\n",
       "       '40 Lac+', '83 Lac+', '63 Lac+', '21 Crore+', '52 Lac+',\n",
       "       '28 Thou+', '33 Crore+', '16 Crore+', '19 Crore+', '98 Thou+',\n",
       "       '69 Lac+', '76 Lac+', '71 Crore+', '23 Crore+', '41 Lac+',\n",
       "       '65 Lac+', '41 Crore+', '62 Crore+', '85 Lac+', '3 Thou+',\n",
       "       '98 Lac+', '82 Thou+', '14 Crore+', '26 Crore+', '84 Thou+',\n",
       "       '32 Crore+', '51 Lac+', '12 Crore+', '20 Crore+', '25 Lac+',\n",
       "       '114 Crore+', '42 Crore+', '30 Crore+', '84 Lac+', '56 Lac+',\n",
       "       '58 Lac+', '80 Thou+', '67 Lac+', '71 Lac+', '111 Crore+',\n",
       "       '25 Thou+', '35 Thou+', '47 Crore+', '68 Lac+', '2 Hund+',\n",
       "       '39 Thou+', '102 Crore+', '88 Lac+', '77 Lac+', '881 Crore+',\n",
       "       '74 Thou+', '87 Lac+', '24 Thou+', '79 Lac+', '28 Crore+',\n",
       "       '27 Thou+', '93 Lac+', '90 Thou+', '73 Thou+', '79 Thou+',\n",
       "       '70 Crore+', '31 Thou+', '27 Crore+', '5 Thou+', '35 Crore+',\n",
       "       '33 Thou+', '47 Thou+', '45 Thou+', '43 Thou+'], dtype=object)"
      ]
     },
     "execution_count": 7,
     "metadata": {},
     "output_type": "execute_result"
    }
   ],
   "source": [
    "train_data['Liabilities'].unique()"
   ]
  },
  {
   "cell_type": "code",
   "execution_count": 8,
   "id": "209fd072",
   "metadata": {
    "execution": {
     "iopub.execute_input": "2024-04-12T12:08:01.733308Z",
     "iopub.status.busy": "2024-04-12T12:08:01.732605Z",
     "iopub.status.idle": "2024-04-12T12:08:01.754162Z",
     "shell.execute_reply": "2024-04-12T12:08:01.752905Z"
    },
    "papermill": {
     "duration": 0.042022,
     "end_time": "2024-04-12T12:08:01.757029",
     "exception": false,
     "start_time": "2024-04-12T12:08:01.715007",
     "status": "completed"
    },
    "tags": []
   },
   "outputs": [],
   "source": [
    "def convert_to_numeric(value):\n",
    "    value = str(value)\n",
    "    if value.endswith('Crore+'):\n",
    "        return float(value.replace(' Crore+', '')) * 10000000\n",
    "    elif value.endswith('Lac+'):\n",
    "        return float(value.replace(' Lac+', '')) * 100000\n",
    "    elif value.endswith('Thou+'):\n",
    "        return float(value.replace(' Thou+', '')) * 1000\n",
    "    elif value.endswith('Crore'):\n",
    "        return float(value.replace(' Crore', '')) * 10000000\n",
    "    elif value.endswith('Lac'):\n",
    "        return float(value.replace(' Lac', '')) * 100000\n",
    "    elif value.endswith('Thou'):\n",
    "        return float(value.replace(' Thou', '')) * 1000\n",
    "    elif value.endswith('Lac'):\n",
    "        return float(value.replace(' Lac', '')) * 100000\n",
    "    elif value.endswith('Crore'):\n",
    "        return float(value.replace(' Crore', '')) * 10000000\n",
    "    elif value.endswith('Hund+'):\n",
    "        return float(value.replace(' Hund+', '')) * 100\n",
    "    elif value.endswith('Hund'):\n",
    "        return float(value.replace(' Hund', '')) * 100\n",
    "    else:\n",
    "        return float(value.replace('+', ''))\n",
    "    \n",
    "data1 = train_data['Total Assets']\n",
    "train_data['Total Assets'] = [convert_to_numeric(value) for value in data1]\n",
    "data2 = train_data['Liabilities']\n",
    "train_data['Liabilities'] = [convert_to_numeric(value) for value in data2]"
   ]
  },
  {
   "cell_type": "code",
   "execution_count": 9,
   "id": "95bfea31",
   "metadata": {
    "execution": {
     "iopub.execute_input": "2024-04-12T12:08:01.789490Z",
     "iopub.status.busy": "2024-04-12T12:08:01.789039Z",
     "iopub.status.idle": "2024-04-12T12:08:01.796562Z",
     "shell.execute_reply": "2024-04-12T12:08:01.795373Z"
    },
    "papermill": {
     "duration": 0.026689,
     "end_time": "2024-04-12T12:08:01.798940",
     "exception": false,
     "start_time": "2024-04-12T12:08:01.772251",
     "status": "completed"
    },
    "tags": []
   },
   "outputs": [
    {
     "data": {
      "text/plain": [
       "dtype('float64')"
      ]
     },
     "execution_count": 9,
     "metadata": {},
     "output_type": "execute_result"
    }
   ],
   "source": [
    "train_data['Total Assets'].dtype"
   ]
  },
  {
   "cell_type": "code",
   "execution_count": 10,
   "id": "da2ac37d",
   "metadata": {
    "execution": {
     "iopub.execute_input": "2024-04-12T12:08:01.831713Z",
     "iopub.status.busy": "2024-04-12T12:08:01.831253Z",
     "iopub.status.idle": "2024-04-12T12:08:01.838418Z",
     "shell.execute_reply": "2024-04-12T12:08:01.837631Z"
    },
    "papermill": {
     "duration": 0.026318,
     "end_time": "2024-04-12T12:08:01.840608",
     "exception": false,
     "start_time": "2024-04-12T12:08:01.814290",
     "status": "completed"
    },
    "tags": []
   },
   "outputs": [
    {
     "data": {
      "text/plain": [
       "dtype('float64')"
      ]
     },
     "execution_count": 10,
     "metadata": {},
     "output_type": "execute_result"
    }
   ],
   "source": [
    "train_data['Liabilities'].dtype"
   ]
  },
  {
   "cell_type": "code",
   "execution_count": 11,
   "id": "628ac3bd",
   "metadata": {
    "execution": {
     "iopub.execute_input": "2024-04-12T12:08:01.873797Z",
     "iopub.status.busy": "2024-04-12T12:08:01.873360Z",
     "iopub.status.idle": "2024-04-12T12:08:01.879911Z",
     "shell.execute_reply": "2024-04-12T12:08:01.879032Z"
    },
    "papermill": {
     "duration": 0.025713,
     "end_time": "2024-04-12T12:08:01.882012",
     "exception": false,
     "start_time": "2024-04-12T12:08:01.856299",
     "status": "completed"
    },
    "tags": []
   },
   "outputs": [],
   "source": [
    "train_data['Debt Ratio']  = train_data['Total Assets']/train_data['Liabilities']"
   ]
  },
  {
   "cell_type": "code",
   "execution_count": 12,
   "id": "78b3e996",
   "metadata": {
    "execution": {
     "iopub.execute_input": "2024-04-12T12:08:01.915488Z",
     "iopub.status.busy": "2024-04-12T12:08:01.914715Z",
     "iopub.status.idle": "2024-04-12T12:08:01.921534Z",
     "shell.execute_reply": "2024-04-12T12:08:01.920698Z"
    },
    "papermill": {
     "duration": 0.026154,
     "end_time": "2024-04-12T12:08:01.923694",
     "exception": false,
     "start_time": "2024-04-12T12:08:01.897540",
     "status": "completed"
    },
    "tags": []
   },
   "outputs": [
    {
     "data": {
      "text/plain": [
       "dtype('int64')"
      ]
     },
     "execution_count": 12,
     "metadata": {},
     "output_type": "execute_result"
    }
   ],
   "source": [
    "train_data['Criminal Case'].dtype"
   ]
  },
  {
   "cell_type": "code",
   "execution_count": 13,
   "id": "ee185ae8",
   "metadata": {
    "execution": {
     "iopub.execute_input": "2024-04-12T12:08:01.957501Z",
     "iopub.status.busy": "2024-04-12T12:08:01.956750Z",
     "iopub.status.idle": "2024-04-12T12:08:01.964554Z",
     "shell.execute_reply": "2024-04-12T12:08:01.963373Z"
    },
    "papermill": {
     "duration": 0.027524,
     "end_time": "2024-04-12T12:08:01.966926",
     "exception": false,
     "start_time": "2024-04-12T12:08:01.939402",
     "status": "completed"
    },
    "tags": []
   },
   "outputs": [
    {
     "data": {
      "text/plain": [
       "array(['TAMIL NADU', 'MADHYA PRADESH', 'KARNATAKA', 'BIHAR',\n",
       "       'WEST BENGAL', 'UTTAR PRADESH', 'PUNJAB', 'MAHARASHTRA', 'ODISHA',\n",
       "       'HIMACHAL PRADESH', 'MEGHALAYA', 'KERALA', 'HARYANA', 'DELHI',\n",
       "       'ANDHRA PRADESH', 'MANIPUR', 'RAJASTHAN', 'ASSAM',\n",
       "       'ARUNACHAL PRADESH', 'JHARKHAND', 'GUJARAT', 'TRIPURA',\n",
       "       'CHHATTISGARH', 'UTTARAKHAND', 'NAGALAND', 'SIKKIM', 'GOA',\n",
       "       'PUDUCHERRY'], dtype=object)"
      ]
     },
     "execution_count": 13,
     "metadata": {},
     "output_type": "execute_result"
    }
   ],
   "source": [
    "train_data['state'].unique()"
   ]
  },
  {
   "cell_type": "code",
   "execution_count": 14,
   "id": "ca0ce778",
   "metadata": {
    "execution": {
     "iopub.execute_input": "2024-04-12T12:08:02.002217Z",
     "iopub.status.busy": "2024-04-12T12:08:02.001120Z",
     "iopub.status.idle": "2024-04-12T12:08:03.279878Z",
     "shell.execute_reply": "2024-04-12T12:08:03.278673Z"
    },
    "papermill": {
     "duration": 1.299369,
     "end_time": "2024-04-12T12:08:03.282523",
     "exception": false,
     "start_time": "2024-04-12T12:08:01.983154",
     "status": "completed"
    },
    "tags": []
   },
   "outputs": [
    {
     "name": "stdout",
     "output_type": "stream",
     "text": [
      "[24 14 12  4 28 26 21 15 19 10 17 13  9  6  1 16 22  3  2 11  8 25  5 27\n",
      " 18 23  7 20]\n"
     ]
    }
   ],
   "source": [
    "from sklearn.preprocessing import LabelEncoder\n",
    "\n",
    "data = train_data['state']\n",
    "\n",
    "label_encoder = LabelEncoder()\n",
    "\n",
    "train_data['state'] = label_encoder.fit_transform(data) + 1\n",
    "\n",
    "print(train_data['state'].unique())"
   ]
  },
  {
   "cell_type": "code",
   "execution_count": 15,
   "id": "80d41f4e",
   "metadata": {
    "execution": {
     "iopub.execute_input": "2024-04-12T12:08:03.318443Z",
     "iopub.status.busy": "2024-04-12T12:08:03.317257Z",
     "iopub.status.idle": "2024-04-12T12:08:03.324999Z",
     "shell.execute_reply": "2024-04-12T12:08:03.323942Z"
    },
    "papermill": {
     "duration": 0.028049,
     "end_time": "2024-04-12T12:08:03.327475",
     "exception": false,
     "start_time": "2024-04-12T12:08:03.299426",
     "status": "completed"
    },
    "tags": []
   },
   "outputs": [
    {
     "data": {
      "text/plain": [
       "dtype('int64')"
      ]
     },
     "execution_count": 15,
     "metadata": {},
     "output_type": "execute_result"
    }
   ],
   "source": [
    "train_data['state'].dtype"
   ]
  },
  {
   "cell_type": "code",
   "execution_count": 16,
   "id": "62abfadf",
   "metadata": {
    "execution": {
     "iopub.execute_input": "2024-04-12T12:08:03.362459Z",
     "iopub.status.busy": "2024-04-12T12:08:03.362052Z",
     "iopub.status.idle": "2024-04-12T12:08:03.370561Z",
     "shell.execute_reply": "2024-04-12T12:08:03.369415Z"
    },
    "papermill": {
     "duration": 0.028719,
     "end_time": "2024-04-12T12:08:03.373001",
     "exception": false,
     "start_time": "2024-04-12T12:08:03.344282",
     "status": "completed"
    },
    "tags": []
   },
   "outputs": [
    {
     "name": "stdout",
     "output_type": "stream",
     "text": [
      "[ 8  5  9  3  1 19 16  4 10 18 17 23  2  7 14 21 15  6 20 12 13 11 22]\n"
     ]
    }
   ],
   "source": [
    "data = train_data['Party']\n",
    "train_data['Party'] = label_encoder.fit_transform(data) + 1\n",
    "print(train_data['Party'].unique())"
   ]
  },
  {
   "cell_type": "code",
   "execution_count": 17,
   "id": "00e3635e",
   "metadata": {
    "execution": {
     "iopub.execute_input": "2024-04-12T12:08:03.409131Z",
     "iopub.status.busy": "2024-04-12T12:08:03.408745Z",
     "iopub.status.idle": "2024-04-12T12:08:03.416197Z",
     "shell.execute_reply": "2024-04-12T12:08:03.415006Z"
    },
    "papermill": {
     "duration": 0.028484,
     "end_time": "2024-04-12T12:08:03.418797",
     "exception": false,
     "start_time": "2024-04-12T12:08:03.390313",
     "status": "completed"
    },
    "tags": []
   },
   "outputs": [],
   "source": [
    "train_data = train_data.rename(columns={'Constituency ∇': 'Constituency'})"
   ]
  },
  {
   "cell_type": "code",
   "execution_count": 18,
   "id": "69f41e2f",
   "metadata": {
    "execution": {
     "iopub.execute_input": "2024-04-12T12:08:03.454620Z",
     "iopub.status.busy": "2024-04-12T12:08:03.454180Z",
     "iopub.status.idle": "2024-04-12T12:08:03.468660Z",
     "shell.execute_reply": "2024-04-12T12:08:03.466962Z"
    },
    "papermill": {
     "duration": 0.035843,
     "end_time": "2024-04-12T12:08:03.471477",
     "exception": false,
     "start_time": "2024-04-12T12:08:03.435634",
     "status": "completed"
    },
    "tags": []
   },
   "outputs": [
    {
     "name": "stdout",
     "output_type": "stream",
     "text": [
      "[  77  890 1105 ... 1219 1747 1862]\n"
     ]
    }
   ],
   "source": [
    "data = train_data['Constituency']\n",
    "train_data['Constituency'] = label_encoder.fit_transform(data) + 1\n",
    "print(train_data['Constituency'].unique())"
   ]
  },
  {
   "cell_type": "code",
   "execution_count": 19,
   "id": "de4cf2e4",
   "metadata": {
    "execution": {
     "iopub.execute_input": "2024-04-12T12:08:03.506678Z",
     "iopub.status.busy": "2024-04-12T12:08:03.506249Z",
     "iopub.status.idle": "2024-04-12T12:08:03.516214Z",
     "shell.execute_reply": "2024-04-12T12:08:03.515123Z"
    },
    "papermill": {
     "duration": 0.030316,
     "end_time": "2024-04-12T12:08:03.518364",
     "exception": false,
     "start_time": "2024-04-12T12:08:03.488048",
     "status": "completed"
    },
    "tags": []
   },
   "outputs": [
    {
     "data": {
      "text/plain": [
       "ID                0\n",
       "Candidate         0\n",
       "Constituency      0\n",
       "Party             0\n",
       "Criminal Case     0\n",
       "Total Assets      0\n",
       "Liabilities       0\n",
       "state             0\n",
       "Education         0\n",
       "Debt Ratio       42\n",
       "dtype: int64"
      ]
     },
     "execution_count": 19,
     "metadata": {},
     "output_type": "execute_result"
    }
   ],
   "source": [
    "train_data.isnull().sum()"
   ]
  },
  {
   "cell_type": "code",
   "execution_count": 20,
   "id": "29096f46",
   "metadata": {
    "execution": {
     "iopub.execute_input": "2024-04-12T12:08:03.553857Z",
     "iopub.status.busy": "2024-04-12T12:08:03.553459Z",
     "iopub.status.idle": "2024-04-12T12:08:03.570564Z",
     "shell.execute_reply": "2024-04-12T12:08:03.569407Z"
    },
    "papermill": {
     "duration": 0.037862,
     "end_time": "2024-04-12T12:08:03.572960",
     "exception": false,
     "start_time": "2024-04-12T12:08:03.535098",
     "status": "completed"
    },
    "tags": []
   },
   "outputs": [
    {
     "data": {
      "text/plain": [
       "array([1.05500000e+02,            inf, 3.18181818e+01, 3.75000000e+01,\n",
       "       3.27868852e+00, 1.03448276e+01, 4.50000000e+00, 1.42857143e+01,\n",
       "       1.10000000e+01, 0.00000000e+00, 3.50000000e+00, 3.00000000e+02,\n",
       "       1.00000000e+02, 4.20000000e+02, 3.10000000e+02, 1.20000000e+01,\n",
       "       2.50000000e+01, 1.19047619e+01, 2.25000000e+00, 1.70000000e+01,\n",
       "       7.50000000e+01, 6.00000000e+00, 4.44444444e+01, 2.41176471e+00,\n",
       "       1.02564103e+01, 2.30769231e+01, 2.06896552e+01, 1.50000000e+00,\n",
       "       1.12500000e+02, 1.05000000e+01, 3.33333333e+00, 1.28571429e+00,\n",
       "       2.11111111e+02, 1.07142857e+01, 8.00000000e+02, 2.14285714e+01,\n",
       "       2.70270270e+00, 5.70000000e+00, 1.06382979e+01, 3.04347826e+01,\n",
       "       2.00000000e+02, 6.66666667e+01, 1.11111111e+01, 1.28571429e+01,\n",
       "       5.66666667e+00, 1.13207547e+01, 8.00000000e+00, 1.86666667e+01,\n",
       "       1.13636364e+01, 6.66666667e+02, 5.00000000e+00, 3.00000000e+01,\n",
       "       1.33333333e+01, 2.85714286e+01, 3.66666667e+00, 2.50000000e+00,\n",
       "       4.82352941e+00, 4.23076923e+01, 3.76190476e+00, 6.50000000e+00,\n",
       "       4.80000000e+01, 4.10958904e+00, 9.35294118e+00, 8.16326531e+00,\n",
       "       5.00000000e+01, 4.39560440e+00, 7.27272727e+00, 1.68750000e+02,\n",
       "       1.88000000e+01, 2.24719101e+01, 4.08333333e+00, 1.90000000e+01,\n",
       "       9.52380952e+00, 1.66666667e+02, 3.22580645e+00, 6.00000000e+01,\n",
       "       3.23529412e+01, 1.32075472e+01, 1.58333333e+00, 6.75000000e+00,\n",
       "       1.75675676e+00, 5.88235294e+00,            nan, 5.40000000e+00,\n",
       "       2.33333333e+00, 3.00000000e-01, 2.05882353e+02, 3.00000000e+00,\n",
       "       1.40000000e+01, 6.25000000e+00, 1.33333333e+02, 1.42857143e+00,\n",
       "       7.64705882e-01, 1.63934426e+02, 4.66666667e+00, 3.84615385e+01,\n",
       "       3.33333333e+01, 8.18181818e-01, 9.50000000e+00, 2.27272727e+00,\n",
       "       1.95000000e+01, 2.75000000e+00, 1.34375000e+00, 5.33333333e+00,\n",
       "       5.55555556e+00, 3.12500000e+00, 1.33333333e+00, 1.83333333e+00,\n",
       "       1.50000000e+02, 3.50000000e+01, 1.13953488e+00, 3.10344828e+01,\n",
       "       2.00000000e+00, 1.93548387e+01, 9.00000000e+02, 3.10000000e+01,\n",
       "       5.55555556e+01, 1.00000000e+00, 5.90909091e+00, 2.60000000e+01,\n",
       "       2.30000000e+01, 4.34782609e+00, 6.66666667e+00, 2.66666667e+02,\n",
       "       1.00000000e+01, 2.35294118e+01, 4.00000000e+00, 9.09090909e+00,\n",
       "       1.30000000e+01, 3.03030303e+00, 1.65217391e+02, 6.77966102e+00,\n",
       "       1.45833333e+01, 1.68421053e+01, 5.00000000e+02, 8.33333333e+00,\n",
       "       5.80000000e+00, 6.00000000e+02, 1.53846154e+02, 1.14583333e+01,\n",
       "       3.70370370e+00, 1.77777778e+00, 1.56250000e-01, 5.26315789e+00,\n",
       "       4.13793103e+01, 1.40350877e+01, 3.04878049e+01, 5.53191489e+01,\n",
       "       3.12500000e+01, 1.85714286e+01, 3.80000000e+00, 6.89655172e+00,\n",
       "       2.00000000e+01, 7.00000000e+02, 7.57575758e+00, 7.87500000e+00,\n",
       "       4.65116279e+00, 1.58536585e+01, 2.60000000e+00, 1.76250000e+01,\n",
       "       4.06250000e+01, 1.97500000e+01, 1.29032258e+01, 3.46938776e+01,\n",
       "       5.70000000e+01, 5.75000000e+00, 2.77777778e+00, 1.81818182e+01,\n",
       "       4.44444444e+00, 2.50000000e+02, 3.57142857e+01, 7.00000000e+00,\n",
       "       2.56410256e+00, 1.82666667e+01, 6.66666667e-01, 2.57142857e+00,\n",
       "       1.05263158e+01, 2.66666667e+01, 7.69230769e+00, 3.84415584e+00,\n",
       "       4.05405405e+00, 2.66666667e+00, 1.63636364e+00, 6.17283951e+00,\n",
       "       1.85185185e+01, 1.23595506e+01, 6.41025641e+00, 7.40740741e+00,\n",
       "       5.38461538e-01, 3.70000000e+01, 4.57142857e+00, 1.21212121e+01,\n",
       "       2.12765957e+00, 3.57142857e+00, 2.55813953e+01, 3.75000000e+00,\n",
       "       9.00000000e+00, 7.66666667e+00, 1.04000000e+01, 1.66666667e+01,\n",
       "       7.40000000e+00, 7.50000000e+00, 1.13333333e+01, 1.25000000e+01,\n",
       "       2.59259259e+01, 1.81250000e+00, 4.54545455e+01, 3.76470588e+00,\n",
       "       2.69230769e+01, 1.28205128e+01, 2.38095238e+00, 2.42857143e+00,\n",
       "       1.32530120e+01, 7.77777778e+01, 1.17647059e+01, 3.17460317e+00,\n",
       "       2.54285714e+00, 6.25000000e+01, 1.92307692e+00, 3.92857143e+01,\n",
       "       7.16666667e+00, 6.06060606e+00, 1.01111111e+01, 2.18750000e+00,\n",
       "       1.75675676e+01, 6.30000000e+00, 3.47368421e+00, 3.05000000e+01,\n",
       "       6.00000000e-02, 4.00000000e+02, 8.00000000e+01, 4.59183673e+01,\n",
       "       8.69565217e+00, 2.72727273e+01, 5.40540541e+00, 1.14000000e+01,\n",
       "       4.60000000e+00, 1.04166667e+01, 1.88571429e+00, 1.44927536e+00,\n",
       "       1.75000000e+01, 6.62500000e+00, 4.42857143e+00, 3.84615385e+00,\n",
       "       1.15789474e+01, 5.11111111e+00, 2.77777778e+01, 4.09090909e+00,\n",
       "       1.70731707e+01, 9.47368421e+00, 2.43902439e+00, 5.50000000e+00,\n",
       "       2.70000000e+01, 1.59574468e+01, 3.60000000e+00, 1.20879121e+01,\n",
       "       9.21052632e+00, 4.94382022e+01, 1.17857143e+02, 5.71428571e+01,\n",
       "       3.07692308e+00, 1.07142857e+02, 7.80487805e-01, 1.64835165e+01,\n",
       "       7.14285714e+00, 4.90000000e+01, 2.22222222e+01, 5.75000000e+02,\n",
       "       3.03030303e+01, 3.15384615e+00, 1.77419355e+00, 9.42857143e+00,\n",
       "       4.87804878e+00, 1.96666667e+01, 2.35294118e+00, 7.05263158e+00,\n",
       "       7.07317073e+01, 1.52542373e+01, 9.67741935e+00, 3.63636364e+01,\n",
       "       1.53333333e+01, 6.40000000e+01, 1.50943396e+01, 2.59285714e+01,\n",
       "       5.12820513e+00, 4.45333333e+01, 8.50000000e+00, 4.30769231e+00,\n",
       "       2.38095238e+02, 1.60000000e+01, 5.00000000e-01, 1.50000000e+01,\n",
       "       4.05882353e+00, 1.53846154e+01, 1.34615385e+01, 9.37500000e+00,\n",
       "       9.33333333e+00, 4.75000000e+00, 8.18181818e+01, 7.82608696e-01,\n",
       "       5.96875000e+00, 2.21739130e+00, 1.37254902e+01, 2.36842105e+01,\n",
       "       3.40000000e+00, 7.83333333e+00, 6.19047619e+01, 7.62500000e+00,\n",
       "       2.84615385e+00, 1.18421053e+00, 4.86486486e+01, 6.33333333e+00,\n",
       "       3.25000000e+00, 9.61538462e+00, 1.71428571e+00, 3.44827586e+00,\n",
       "       1.27500000e+01, 3.38983051e+00, 4.00000000e+01, 1.57142857e+00,\n",
       "       3.23076923e+01, 2.17391304e+00, 1.17647059e+00, 2.12121212e+01,\n",
       "       2.10526316e+01, 9.83606557e+00, 2.24719101e+00, 9.75609756e+00,\n",
       "       4.83870968e+00, 7.28571429e+00, 1.70000000e+00, 4.15000000e+01,\n",
       "       2.40000000e+01, 2.65384615e+00, 5.35714286e+00, 3.28571429e+00,\n",
       "       2.02702703e+01, 5.76923077e+00, 2.45000000e+00, 1.57894737e+01,\n",
       "       4.33333333e+00, 4.91803279e+00, 1.34831461e+01, 8.33333333e+01,\n",
       "       1.94285714e+00, 8.97435897e+00, 1.80000000e+01, 5.52941176e+00,\n",
       "       4.25531915e+00, 2.08333333e+00, 1.80000000e+02, 2.94736842e+02,\n",
       "       1.08000000e+00, 2.80000000e+01, 4.76190476e+00, 4.43750000e+00,\n",
       "       2.41379310e+01, 3.15789474e+01, 1.27272727e+02, 1.78571429e+01,\n",
       "       8.95522388e+00, 1.39436620e+00, 1.12857143e+01, 2.68421053e+00,\n",
       "       7.46268657e+00, 4.25000000e+01, 6.10000000e+03, 2.25000000e+01,\n",
       "       1.68468468e+00, 4.40000000e+01, 1.31250000e+02, 1.87500000e+01,\n",
       "       9.90000000e+00, 4.54545455e+00, 7.00000000e+01, 6.00000000e+03,\n",
       "       9.00000000e-01, 5.71428571e+02, 7.61904762e+01, 2.59574468e+00,\n",
       "       7.50000000e-01, 5.38461538e+00, 2.03333333e+01, 5.55555556e-01,\n",
       "       7.33333333e+00, 8.25000000e+00, 1.55000000e+00, 2.10526316e+00,\n",
       "       4.21428571e+00, 7.10000000e+01, 7.36842105e+00, 1.14285714e+01,\n",
       "       2.34375000e+00, 5.20000000e+01, 1.68750000e+00, 1.29629630e+01,\n",
       "       1.02040816e+00, 7.58333333e+00, 4.41176471e+00, 6.81818182e+00,\n",
       "       5.08333333e+00, 1.95121951e+01, 2.00000000e-01, 2.55000000e+04,\n",
       "       2.88235294e+00, 3.58974359e+03, 1.45000000e+01, 5.91666667e+00,\n",
       "       2.87254902e+00, 4.25000000e+00, 8.88888889e+01, 2.83333333e+00,\n",
       "       2.91666667e+01, 1.21951220e+01, 3.16666667e+00, 7.18750000e-01,\n",
       "       2.20000000e+01, 3.46153846e+01, 3.71428571e+01, 2.11111111e+00,\n",
       "       1.18571429e+01, 2.53400000e+02, 1.55555556e+02, 5.68181818e+01,\n",
       "       5.71428571e+00, 1.55000000e+01, 1.32500000e+01, 8.10810811e+00,\n",
       "       8.82352941e+00, 2.63157895e+00, 2.10000000e+01, 5.45454545e+01,\n",
       "       5.83333333e+00, 1.30000000e+00, 2.64150943e+01, 5.25000000e+00,\n",
       "       1.63934426e+01, 5.14285714e+00, 4.16666667e+00, 1.59090909e+01,\n",
       "       3.60000000e+01, 1.13636364e+00, 5.83333333e+01, 3.45454545e+00,\n",
       "       1.46341463e+01, 1.29870130e+00, 8.51063830e+00, 1.73469388e+01,\n",
       "       1.61290323e+00, 7.14285714e+01, 5.31250000e+00, 2.91666667e+00,\n",
       "       1.31214529e+00, 3.76923077e+00, 1.87500000e+00, 1.75000000e+00,\n",
       "       2.43243243e+03, 1.16666667e+00, 1.20000000e+00, 3.07692308e+01,\n",
       "       2.12500000e+00, 6.16666667e+00, 1.38888889e+01, 5.95238095e+00,\n",
       "       2.94117647e+00, 3.33333333e+02, 7.29166667e+00, 7.69230769e+01,\n",
       "       1.12500000e+01, 9.25925926e+00, 2.47500000e+01, 4.16666667e+02,\n",
       "       2.91139241e+01, 6.45161290e+00, 2.59259259e+02, 9.00000000e+01,\n",
       "       3.20000000e+01, 1.48148148e+01, 1.07526882e+00, 1.49253731e+00,\n",
       "       8.29787234e+01, 1.11666667e+01, 4.55555556e+01, 3.71428571e+00,\n",
       "       3.40000000e+01, 2.53164557e+00, 5.60000000e+00, 3.85000000e+00,\n",
       "       1.56250000e+01, 1.08108108e+01, 9.30232558e+01, 4.28571429e+01,\n",
       "       3.03703704e+00, 1.49090909e+00, 1.39285714e+00, 1.20289855e+00,\n",
       "       8.54166667e+01, 4.60000000e+01, 7.33333333e+01, 7.46153846e+00,\n",
       "       2.57142857e+01, 1.01666667e+01, 1.81818182e+00, 8.57142857e+00,\n",
       "       1.88888889e+00, 4.79452055e+01, 3.78571429e+00, 4.88888889e+01,\n",
       "       6.40000000e+00, 1.35593220e+01, 8.35443038e+01, 4.30000000e+00,\n",
       "       3.86363636e+01, 1.66000000e+02, 4.47142857e+00, 1.66666667e+00,\n",
       "       5.23529412e+00, 1.64705882e+00, 6.45161290e+02, 5.70588235e+00,\n",
       "       7.05882353e+00, 8.37837838e+01, 3.50000000e+02, 4.08163265e+00,\n",
       "       4.52631579e+00, 1.15000000e+02, 2.13043478e+00, 1.90000000e+00,\n",
       "       7.01754386e+00, 5.50000000e+01, 4.70588235e+01, 1.44000000e+01,\n",
       "       1.51515152e+00, 1.84615385e+01, 4.10000000e+00, 2.20000000e+00,\n",
       "       1.62790698e+01, 3.60000000e+02, 4.11111111e+00, 4.92307692e+00,\n",
       "       5.42857143e+00, 2.68292683e+01, 3.14285714e+00, 1.35135135e+01,\n",
       "       1.36986301e+00, 4.60000000e+02, 2.42424242e+01, 3.19148936e+00,\n",
       "       2.51515152e+02, 1.06000000e+01, 3.30000000e+00, 1.03030303e+02,\n",
       "       2.85714286e+00, 1.75000000e+02, 6.38297872e-01, 5.58823529e+01,\n",
       "       1.27368421e+01, 9.80000000e+00, 1.06666667e+01, 1.11111111e+02,\n",
       "       2.81690141e+00, 1.16279070e+01, 6.44444444e+01, 1.03333333e+01,\n",
       "       6.33333333e-01, 1.15384615e+01, 7.57142857e+00, 2.63888889e+00,\n",
       "       1.76666667e+01, 6.10000000e+01, 6.20000000e+00, 2.33333333e+02,\n",
       "       6.75675676e+00, 1.48000000e+01, 1.51898734e+01, 7.84313725e+00,\n",
       "       3.87096774e+01, 4.61538462e+01, 2.63157895e+01, 2.16666667e+02,\n",
       "       6.70000000e+00, 3.03030303e+02, 1.37500000e+01, 2.25000000e+02,\n",
       "       4.45000000e+00, 1.83333333e+01, 1.14942529e+01, 5.33333333e+01,\n",
       "       1.16666667e+01, 3.23333333e+01, 4.59770115e+00, 3.48148148e+00,\n",
       "       7.85714286e+00, 4.16666667e+01, 5.57142857e+00, 4.68750000e+00,\n",
       "       6.15384615e+00, 4.80000000e+00, 1.76470588e+01, 2.29508197e+01,\n",
       "       2.33333333e+01, 2.32558140e+02, 5.29411765e+01, 4.35000000e+00,\n",
       "       3.73333333e+00, 6.78571429e+00, 1.02040816e+01, 3.85714286e+00,\n",
       "       2.13333333e+01, 7.44444444e+00, 1.02040816e+02, 1.83529412e+01,\n",
       "       1.58730159e+00, 9.60000000e+01, 2.55319149e+01, 4.55000000e+00,\n",
       "       6.10000000e+00, 1.52941176e+01, 2.65957447e+01])"
      ]
     },
     "execution_count": 20,
     "metadata": {},
     "output_type": "execute_result"
    }
   ],
   "source": [
    "train_data['Debt Ratio'].unique()"
   ]
  },
  {
   "cell_type": "code",
   "execution_count": 21,
   "id": "1d6ae29b",
   "metadata": {
    "execution": {
     "iopub.execute_input": "2024-04-12T12:08:03.610507Z",
     "iopub.status.busy": "2024-04-12T12:08:03.610083Z",
     "iopub.status.idle": "2024-04-12T12:08:03.616943Z",
     "shell.execute_reply": "2024-04-12T12:08:03.615662Z"
    },
    "papermill": {
     "duration": 0.028432,
     "end_time": "2024-04-12T12:08:03.619386",
     "exception": false,
     "start_time": "2024-04-12T12:08:03.590954",
     "status": "completed"
    },
    "tags": []
   },
   "outputs": [],
   "source": [
    "ranges = [\n",
    "    (0, 1000000),\n",
    "    (1000001, 10000000),\n",
    "    (10000001, 100000000),\n",
    "    (100000001, 1000000000),\n",
    "    (1000000001, np.inf)\n",
    "]\n",
    "\n",
    "def assign_range(val):\n",
    "    for i, (start, end) in enumerate(ranges):\n",
    "        if start <= val <= end:\n",
    "            return f'Range {i+1}'"
   ]
  },
  {
   "cell_type": "code",
   "execution_count": 22,
   "id": "0fade3b2",
   "metadata": {
    "execution": {
     "iopub.execute_input": "2024-04-12T12:08:03.718542Z",
     "iopub.status.busy": "2024-04-12T12:08:03.718037Z",
     "iopub.status.idle": "2024-04-12T12:08:03.730136Z",
     "shell.execute_reply": "2024-04-12T12:08:03.728881Z"
    },
    "papermill": {
     "duration": 0.096148,
     "end_time": "2024-04-12T12:08:03.733177",
     "exception": false,
     "start_time": "2024-04-12T12:08:03.637029",
     "status": "completed"
    },
    "tags": []
   },
   "outputs": [],
   "source": [
    "train_data['Total Assets'] = [assign_range(val) for val in train_data['Total Assets']]"
   ]
  },
  {
   "cell_type": "code",
   "execution_count": 23,
   "id": "323b67ed",
   "metadata": {
    "execution": {
     "iopub.execute_input": "2024-04-12T12:08:03.779782Z",
     "iopub.status.busy": "2024-04-12T12:08:03.778730Z",
     "iopub.status.idle": "2024-04-12T12:08:03.787690Z",
     "shell.execute_reply": "2024-04-12T12:08:03.786535Z"
    },
    "papermill": {
     "duration": 0.036346,
     "end_time": "2024-04-12T12:08:03.790076",
     "exception": false,
     "start_time": "2024-04-12T12:08:03.753730",
     "status": "completed"
    },
    "tags": []
   },
   "outputs": [
    {
     "data": {
      "text/plain": [
       "array(['Range 5', 'Range 2', 'Range 3', 'Range 4', 'Range 1'],\n",
       "      dtype=object)"
      ]
     },
     "execution_count": 23,
     "metadata": {},
     "output_type": "execute_result"
    }
   ],
   "source": [
    "train_data['Total Assets'].unique()"
   ]
  },
  {
   "cell_type": "code",
   "execution_count": 24,
   "id": "7c390936",
   "metadata": {
    "execution": {
     "iopub.execute_input": "2024-04-12T12:08:03.826924Z",
     "iopub.status.busy": "2024-04-12T12:08:03.826502Z",
     "iopub.status.idle": "2024-04-12T12:08:03.835525Z",
     "shell.execute_reply": "2024-04-12T12:08:03.834665Z"
    },
    "papermill": {
     "duration": 0.029935,
     "end_time": "2024-04-12T12:08:03.837564",
     "exception": false,
     "start_time": "2024-04-12T12:08:03.807629",
     "status": "completed"
    },
    "tags": []
   },
   "outputs": [],
   "source": [
    "train_data['Liabilities'] = [assign_range(val) for val in train_data['Liabilities']]"
   ]
  },
  {
   "cell_type": "code",
   "execution_count": 25,
   "id": "0d8613c3",
   "metadata": {
    "execution": {
     "iopub.execute_input": "2024-04-12T12:08:03.875007Z",
     "iopub.status.busy": "2024-04-12T12:08:03.874262Z",
     "iopub.status.idle": "2024-04-12T12:08:03.885052Z",
     "shell.execute_reply": "2024-04-12T12:08:03.883982Z"
    },
    "papermill": {
     "duration": 0.032865,
     "end_time": "2024-04-12T12:08:03.887900",
     "exception": false,
     "start_time": "2024-04-12T12:08:03.855035",
     "status": "completed"
    },
    "tags": []
   },
   "outputs": [
    {
     "name": "stdout",
     "output_type": "stream",
     "text": [
      "[3 1 2 4 5]\n"
     ]
    }
   ],
   "source": [
    "data = train_data['Liabilities']\n",
    "label_encoder = LabelEncoder()\n",
    "train_data['Liabilities'] = label_encoder.fit_transform(data) + 1\n",
    "print(train_data['Liabilities'].unique())"
   ]
  },
  {
   "cell_type": "code",
   "execution_count": 26,
   "id": "3a888ebd",
   "metadata": {
    "execution": {
     "iopub.execute_input": "2024-04-12T12:08:03.945823Z",
     "iopub.status.busy": "2024-04-12T12:08:03.944143Z",
     "iopub.status.idle": "2024-04-12T12:08:03.954527Z",
     "shell.execute_reply": "2024-04-12T12:08:03.953599Z"
    },
    "papermill": {
     "duration": 0.041685,
     "end_time": "2024-04-12T12:08:03.957974",
     "exception": false,
     "start_time": "2024-04-12T12:08:03.916289",
     "status": "completed"
    },
    "tags": []
   },
   "outputs": [
    {
     "name": "stdout",
     "output_type": "stream",
     "text": [
      "[5 2 3 4 1]\n"
     ]
    }
   ],
   "source": [
    "data = train_data['Total Assets']\n",
    "label_encoder = LabelEncoder()\n",
    "train_data['Total Assets'] = label_encoder.fit_transform(data) + 1\n",
    "print(train_data['Total Assets'].unique())"
   ]
  },
  {
   "cell_type": "code",
   "execution_count": 27,
   "id": "58a8a05b",
   "metadata": {
    "execution": {
     "iopub.execute_input": "2024-04-12T12:08:04.004892Z",
     "iopub.status.busy": "2024-04-12T12:08:04.003903Z",
     "iopub.status.idle": "2024-04-12T12:08:06.675808Z",
     "shell.execute_reply": "2024-04-12T12:08:06.674657Z"
    },
    "papermill": {
     "duration": 2.694874,
     "end_time": "2024-04-12T12:08:06.678155",
     "exception": false,
     "start_time": "2024-04-12T12:08:03.983281",
     "status": "completed"
    },
    "tags": []
   },
   "outputs": [
    {
     "name": "stdout",
     "output_type": "stream",
     "text": [
      "Best Parameters: {'n_neighbors': 11, 'p': 1, 'weights': 'uniform'}\n"
     ]
    }
   ],
   "source": [
    "from sklearn.model_selection import GridSearchCV\n",
    "from sklearn.model_selection import train_test_split\n",
    "from sklearn.ensemble import RandomForestClassifier\n",
    "from sklearn.metrics import accuracy_score\n",
    "from sklearn.neighbors import KNeighborsClassifier\n",
    "\n",
    "X = train_data.drop(['Education','ID', 'Candidate', 'Constituency','Debt Ratio'], axis=1)  \n",
    "y = train_data['Education']\n",
    "\n",
    "X_train, X_test, y_train, y_test = train_test_split(X, y, test_size=0.2, random_state=90)\n",
    "\n",
    "# Define the parameter grid\n",
    "param_grid = {\n",
    "    'n_neighbors': [3, 5, 7, 9, 11],  # Different values of K\n",
    "    'weights': ['uniform', 'distance'],  # Different weight functions\n",
    "    'p': [1, 2],  # Different Minkowski distance metrics\n",
    "}\n",
    "\n",
    "# Initialize KNN classifier\n",
    "knn_classifier = KNeighborsClassifier()\n",
    "\n",
    "# Initialize GridSearchCV\n",
    "grid_search = GridSearchCV(knn_classifier, param_grid, cv=5)\n",
    "\n",
    "# Fit the GridSearchCV object to the data\n",
    "grid_search.fit(X_train, y_train)\n",
    "\n",
    "# Get the best parameters\n",
    "best_params = grid_search.best_params_\n",
    "print(\"Best Parameters:\", best_params)"
   ]
  },
  {
   "cell_type": "code",
   "execution_count": 28,
   "id": "3a3576cd",
   "metadata": {
    "execution": {
     "iopub.execute_input": "2024-04-12T12:08:06.715427Z",
     "iopub.status.busy": "2024-04-12T12:08:06.715040Z",
     "iopub.status.idle": "2024-04-12T12:08:06.738055Z",
     "shell.execute_reply": "2024-04-12T12:08:06.737178Z"
    },
    "papermill": {
     "duration": 0.044232,
     "end_time": "2024-04-12T12:08:06.740260",
     "exception": false,
     "start_time": "2024-04-12T12:08:06.696028",
     "status": "completed"
    },
    "tags": []
   },
   "outputs": [
    {
     "data": {
      "text/html": [
       "<style>#sk-container-id-1 {color: black;background-color: white;}#sk-container-id-1 pre{padding: 0;}#sk-container-id-1 div.sk-toggleable {background-color: white;}#sk-container-id-1 label.sk-toggleable__label {cursor: pointer;display: block;width: 100%;margin-bottom: 0;padding: 0.3em;box-sizing: border-box;text-align: center;}#sk-container-id-1 label.sk-toggleable__label-arrow:before {content: \"▸\";float: left;margin-right: 0.25em;color: #696969;}#sk-container-id-1 label.sk-toggleable__label-arrow:hover:before {color: black;}#sk-container-id-1 div.sk-estimator:hover label.sk-toggleable__label-arrow:before {color: black;}#sk-container-id-1 div.sk-toggleable__content {max-height: 0;max-width: 0;overflow: hidden;text-align: left;background-color: #f0f8ff;}#sk-container-id-1 div.sk-toggleable__content pre {margin: 0.2em;color: black;border-radius: 0.25em;background-color: #f0f8ff;}#sk-container-id-1 input.sk-toggleable__control:checked~div.sk-toggleable__content {max-height: 200px;max-width: 100%;overflow: auto;}#sk-container-id-1 input.sk-toggleable__control:checked~label.sk-toggleable__label-arrow:before {content: \"▾\";}#sk-container-id-1 div.sk-estimator input.sk-toggleable__control:checked~label.sk-toggleable__label {background-color: #d4ebff;}#sk-container-id-1 div.sk-label input.sk-toggleable__control:checked~label.sk-toggleable__label {background-color: #d4ebff;}#sk-container-id-1 input.sk-hidden--visually {border: 0;clip: rect(1px 1px 1px 1px);clip: rect(1px, 1px, 1px, 1px);height: 1px;margin: -1px;overflow: hidden;padding: 0;position: absolute;width: 1px;}#sk-container-id-1 div.sk-estimator {font-family: monospace;background-color: #f0f8ff;border: 1px dotted black;border-radius: 0.25em;box-sizing: border-box;margin-bottom: 0.5em;}#sk-container-id-1 div.sk-estimator:hover {background-color: #d4ebff;}#sk-container-id-1 div.sk-parallel-item::after {content: \"\";width: 100%;border-bottom: 1px solid gray;flex-grow: 1;}#sk-container-id-1 div.sk-label:hover label.sk-toggleable__label {background-color: #d4ebff;}#sk-container-id-1 div.sk-serial::before {content: \"\";position: absolute;border-left: 1px solid gray;box-sizing: border-box;top: 0;bottom: 0;left: 50%;z-index: 0;}#sk-container-id-1 div.sk-serial {display: flex;flex-direction: column;align-items: center;background-color: white;padding-right: 0.2em;padding-left: 0.2em;position: relative;}#sk-container-id-1 div.sk-item {position: relative;z-index: 1;}#sk-container-id-1 div.sk-parallel {display: flex;align-items: stretch;justify-content: center;background-color: white;position: relative;}#sk-container-id-1 div.sk-item::before, #sk-container-id-1 div.sk-parallel-item::before {content: \"\";position: absolute;border-left: 1px solid gray;box-sizing: border-box;top: 0;bottom: 0;left: 50%;z-index: -1;}#sk-container-id-1 div.sk-parallel-item {display: flex;flex-direction: column;z-index: 1;position: relative;background-color: white;}#sk-container-id-1 div.sk-parallel-item:first-child::after {align-self: flex-end;width: 50%;}#sk-container-id-1 div.sk-parallel-item:last-child::after {align-self: flex-start;width: 50%;}#sk-container-id-1 div.sk-parallel-item:only-child::after {width: 0;}#sk-container-id-1 div.sk-dashed-wrapped {border: 1px dashed gray;margin: 0 0.4em 0.5em 0.4em;box-sizing: border-box;padding-bottom: 0.4em;background-color: white;}#sk-container-id-1 div.sk-label label {font-family: monospace;font-weight: bold;display: inline-block;line-height: 1.2em;}#sk-container-id-1 div.sk-label-container {text-align: center;}#sk-container-id-1 div.sk-container {/* jupyter's `normalize.less` sets `[hidden] { display: none; }` but bootstrap.min.css set `[hidden] { display: none !important; }` so we also need the `!important` here to be able to override the default hidden behavior on the sphinx rendered scikit-learn.org. See: https://github.com/scikit-learn/scikit-learn/issues/21755 */display: inline-block !important;position: relative;}#sk-container-id-1 div.sk-text-repr-fallback {display: none;}</style><div id=\"sk-container-id-1\" class=\"sk-top-container\"><div class=\"sk-text-repr-fallback\"><pre>KNeighborsClassifier(n_neighbors=11, p=1)</pre><b>In a Jupyter environment, please rerun this cell to show the HTML representation or trust the notebook. <br />On GitHub, the HTML representation is unable to render, please try loading this page with nbviewer.org.</b></div><div class=\"sk-container\" hidden><div class=\"sk-item\"><div class=\"sk-estimator sk-toggleable\"><input class=\"sk-toggleable__control sk-hidden--visually\" id=\"sk-estimator-id-1\" type=\"checkbox\" checked><label for=\"sk-estimator-id-1\" class=\"sk-toggleable__label sk-toggleable__label-arrow\">KNeighborsClassifier</label><div class=\"sk-toggleable__content\"><pre>KNeighborsClassifier(n_neighbors=11, p=1)</pre></div></div></div></div></div>"
      ],
      "text/plain": [
       "KNeighborsClassifier(n_neighbors=11, p=1)"
      ]
     },
     "execution_count": 28,
     "metadata": {},
     "output_type": "execute_result"
    }
   ],
   "source": [
    "X = train_data.drop(['Education','ID', 'Candidate', 'Constituency','Debt Ratio'], axis=1)  \n",
    "y = train_data['Education']\n",
    "\n",
    "X_train, X_test, y_train, y_test = train_test_split(X, y, test_size=0.2, random_state=90)\n",
    "\n",
    "knn_classifier = KNeighborsClassifier(n_neighbors = 11, p = 1, weights = 'uniform')  # Initialize KNN classifier with 5 neighbors\n",
    "\n",
    "knn_classifier.fit(X, y)  \n",
    "\n",
    "#y_pred = knn_classifier.predict(X_test)\n",
    "\n",
    "#accuracy = accuracy_score(y_test, y_pred)\n",
    "#print(\"Accuracy:\", accuracy * 100, \"%\")\n",
    "\n",
    "#f1 = f1_score(y_test, y_pred, average='weighted')\n",
    "#print(\"F1 score on test set:\", f1)"
   ]
  },
  {
   "cell_type": "code",
   "execution_count": 29,
   "id": "ec4afc11",
   "metadata": {
    "execution": {
     "iopub.execute_input": "2024-04-12T12:08:06.779772Z",
     "iopub.status.busy": "2024-04-12T12:08:06.779319Z",
     "iopub.status.idle": "2024-04-12T12:08:06.796295Z",
     "shell.execute_reply": "2024-04-12T12:08:06.794918Z"
    },
    "papermill": {
     "duration": 0.039651,
     "end_time": "2024-04-12T12:08:06.799477",
     "exception": false,
     "start_time": "2024-04-12T12:08:06.759826",
     "status": "completed"
    },
    "tags": []
   },
   "outputs": [],
   "source": [
    "test_data = pd.read_csv(\"/kaggle/input/who-is-the-real-winner/test.csv\")"
   ]
  },
  {
   "cell_type": "code",
   "execution_count": 30,
   "id": "6f417ab8",
   "metadata": {
    "execution": {
     "iopub.execute_input": "2024-04-12T12:08:06.839322Z",
     "iopub.status.busy": "2024-04-12T12:08:06.838668Z",
     "iopub.status.idle": "2024-04-12T12:08:06.850064Z",
     "shell.execute_reply": "2024-04-12T12:08:06.849053Z"
    },
    "papermill": {
     "duration": 0.033511,
     "end_time": "2024-04-12T12:08:06.852497",
     "exception": false,
     "start_time": "2024-04-12T12:08:06.818986",
     "status": "completed"
    },
    "tags": []
   },
   "outputs": [],
   "source": [
    "data1 = test_data['Total Assets']\n",
    "test_data['Total Assets'] = [convert_to_numeric(value) for value in data1]\n",
    "data2 = test_data['Liabilities']\n",
    "test_data['Liabilities'] = [convert_to_numeric(value) for value in data2]"
   ]
  },
  {
   "cell_type": "code",
   "execution_count": 31,
   "id": "f1aa974b",
   "metadata": {
    "execution": {
     "iopub.execute_input": "2024-04-12T12:08:06.890765Z",
     "iopub.status.busy": "2024-04-12T12:08:06.890075Z",
     "iopub.status.idle": "2024-04-12T12:08:06.895991Z",
     "shell.execute_reply": "2024-04-12T12:08:06.895173Z"
    },
    "papermill": {
     "duration": 0.027845,
     "end_time": "2024-04-12T12:08:06.898298",
     "exception": false,
     "start_time": "2024-04-12T12:08:06.870453",
     "status": "completed"
    },
    "tags": []
   },
   "outputs": [],
   "source": [
    "test_data['Debt Ratio']  = test_data['Total Assets']/test_data['Liabilities']"
   ]
  },
  {
   "cell_type": "code",
   "execution_count": 32,
   "id": "3bcd10f0",
   "metadata": {
    "execution": {
     "iopub.execute_input": "2024-04-12T12:08:06.936538Z",
     "iopub.status.busy": "2024-04-12T12:08:06.935893Z",
     "iopub.status.idle": "2024-04-12T12:08:06.944081Z",
     "shell.execute_reply": "2024-04-12T12:08:06.942930Z"
    },
    "papermill": {
     "duration": 0.030025,
     "end_time": "2024-04-12T12:08:06.946295",
     "exception": false,
     "start_time": "2024-04-12T12:08:06.916270",
     "status": "completed"
    },
    "tags": []
   },
   "outputs": [
    {
     "name": "stdout",
     "output_type": "stream",
     "text": [
      "[15 28 26  2 22 19  8 24 10 14 11 27 21  5  6 12 18 13  1  4 16  3  9 25\n",
      " 17  7 23 20]\n"
     ]
    }
   ],
   "source": [
    "data = test_data['state']\n",
    "label_encoder = LabelEncoder()\n",
    "test_data['state'] = label_encoder.fit_transform(data) + 1\n",
    "print(test_data['state'].unique())"
   ]
  },
  {
   "cell_type": "code",
   "execution_count": 33,
   "id": "358b1036",
   "metadata": {
    "execution": {
     "iopub.execute_input": "2024-04-12T12:08:06.984685Z",
     "iopub.status.busy": "2024-04-12T12:08:06.984006Z",
     "iopub.status.idle": "2024-04-12T12:08:06.991946Z",
     "shell.execute_reply": "2024-04-12T12:08:06.990819Z"
    },
    "papermill": {
     "duration": 0.029847,
     "end_time": "2024-04-12T12:08:06.994171",
     "exception": false,
     "start_time": "2024-04-12T12:08:06.964324",
     "status": "completed"
    },
    "tags": []
   },
   "outputs": [
    {
     "name": "stdout",
     "output_type": "stream",
     "text": [
      "[10  3 14 19  5  4  2 18  8  9  1 12  7 23 17 13 16 15 20 22 21 11  6]\n"
     ]
    }
   ],
   "source": [
    "data = test_data['Party']\n",
    "test_data['Party'] = label_encoder.fit_transform(data) + 1\n",
    "print(test_data['Party'].unique())"
   ]
  },
  {
   "cell_type": "code",
   "execution_count": 34,
   "id": "fb4d5985",
   "metadata": {
    "execution": {
     "iopub.execute_input": "2024-04-12T12:08:07.032751Z",
     "iopub.status.busy": "2024-04-12T12:08:07.032084Z",
     "iopub.status.idle": "2024-04-12T12:08:07.038112Z",
     "shell.execute_reply": "2024-04-12T12:08:07.037309Z"
    },
    "papermill": {
     "duration": 0.028202,
     "end_time": "2024-04-12T12:08:07.040477",
     "exception": false,
     "start_time": "2024-04-12T12:08:07.012275",
     "status": "completed"
    },
    "tags": []
   },
   "outputs": [],
   "source": [
    "test_data = test_data.rename(columns={'Constituency ∇': 'Constituency'})"
   ]
  },
  {
   "cell_type": "code",
   "execution_count": 35,
   "id": "642d239f",
   "metadata": {
    "execution": {
     "iopub.execute_input": "2024-04-12T12:08:07.079103Z",
     "iopub.status.busy": "2024-04-12T12:08:07.078197Z",
     "iopub.status.idle": "2024-04-12T12:08:07.089767Z",
     "shell.execute_reply": "2024-04-12T12:08:07.088634Z"
    },
    "papermill": {
     "duration": 0.033639,
     "end_time": "2024-04-12T12:08:07.092253",
     "exception": false,
     "start_time": "2024-04-12T12:08:07.058614",
     "status": "completed"
    },
    "tags": []
   },
   "outputs": [
    {
     "name": "stdout",
     "output_type": "stream",
     "text": [
      "[ 835 1191 1311 ...  958  774  222]\n"
     ]
    }
   ],
   "source": [
    "data = test_data['Constituency']\n",
    "test_data['Constituency'] = label_encoder.fit_transform(data) + 1\n",
    "print(test_data['Constituency'].unique())"
   ]
  },
  {
   "cell_type": "code",
   "execution_count": 36,
   "id": "ffb4997f",
   "metadata": {
    "execution": {
     "iopub.execute_input": "2024-04-12T12:08:07.131230Z",
     "iopub.status.busy": "2024-04-12T12:08:07.130527Z",
     "iopub.status.idle": "2024-04-12T12:08:07.138967Z",
     "shell.execute_reply": "2024-04-12T12:08:07.138006Z"
    },
    "papermill": {
     "duration": 0.031464,
     "end_time": "2024-04-12T12:08:07.141836",
     "exception": false,
     "start_time": "2024-04-12T12:08:07.110372",
     "status": "completed"
    },
    "tags": []
   },
   "outputs": [],
   "source": [
    "test_data['Total Assets'] = [assign_range(val) for val in test_data['Total Assets']]"
   ]
  },
  {
   "cell_type": "code",
   "execution_count": 37,
   "id": "0580d3c7",
   "metadata": {
    "execution": {
     "iopub.execute_input": "2024-04-12T12:08:07.181488Z",
     "iopub.status.busy": "2024-04-12T12:08:07.180827Z",
     "iopub.status.idle": "2024-04-12T12:08:07.189020Z",
     "shell.execute_reply": "2024-04-12T12:08:07.188037Z"
    },
    "papermill": {
     "duration": 0.030721,
     "end_time": "2024-04-12T12:08:07.191502",
     "exception": false,
     "start_time": "2024-04-12T12:08:07.160781",
     "status": "completed"
    },
    "tags": []
   },
   "outputs": [],
   "source": [
    "test_data['Liabilities'] = [assign_range(val) for val in test_data['Liabilities']]"
   ]
  },
  {
   "cell_type": "code",
   "execution_count": 38,
   "id": "c537d05c",
   "metadata": {
    "execution": {
     "iopub.execute_input": "2024-04-12T12:08:07.230431Z",
     "iopub.status.busy": "2024-04-12T12:08:07.229777Z",
     "iopub.status.idle": "2024-04-12T12:08:07.237959Z",
     "shell.execute_reply": "2024-04-12T12:08:07.236767Z"
    },
    "papermill": {
     "duration": 0.03056,
     "end_time": "2024-04-12T12:08:07.240417",
     "exception": false,
     "start_time": "2024-04-12T12:08:07.209857",
     "status": "completed"
    },
    "tags": []
   },
   "outputs": [
    {
     "name": "stdout",
     "output_type": "stream",
     "text": [
      "[4 2 1 3 5]\n"
     ]
    }
   ],
   "source": [
    "data = test_data['Liabilities']\n",
    "label_encoder = LabelEncoder()\n",
    "test_data['Liabilities'] = label_encoder.fit_transform(data) + 1\n",
    "print(test_data['Liabilities'].unique())"
   ]
  },
  {
   "cell_type": "code",
   "execution_count": 39,
   "id": "6a09c5d7",
   "metadata": {
    "execution": {
     "iopub.execute_input": "2024-04-12T12:08:07.279450Z",
     "iopub.status.busy": "2024-04-12T12:08:07.278792Z",
     "iopub.status.idle": "2024-04-12T12:08:07.287053Z",
     "shell.execute_reply": "2024-04-12T12:08:07.285886Z"
    },
    "papermill": {
     "duration": 0.030549,
     "end_time": "2024-04-12T12:08:07.289303",
     "exception": false,
     "start_time": "2024-04-12T12:08:07.258754",
     "status": "completed"
    },
    "tags": []
   },
   "outputs": [
    {
     "name": "stdout",
     "output_type": "stream",
     "text": [
      "[4 3 2 1 5]\n"
     ]
    }
   ],
   "source": [
    "data = test_data['Total Assets']\n",
    "label_encoder = LabelEncoder()\n",
    "test_data['Total Assets'] = label_encoder.fit_transform(data) + 1\n",
    "print(test_data['Total Assets'].unique())"
   ]
  },
  {
   "cell_type": "code",
   "execution_count": 40,
   "id": "3ac02edd",
   "metadata": {
    "execution": {
     "iopub.execute_input": "2024-04-12T12:08:07.328396Z",
     "iopub.status.busy": "2024-04-12T12:08:07.327730Z",
     "iopub.status.idle": "2024-04-12T12:08:07.334215Z",
     "shell.execute_reply": "2024-04-12T12:08:07.333108Z"
    },
    "papermill": {
     "duration": 0.028831,
     "end_time": "2024-04-12T12:08:07.336521",
     "exception": false,
     "start_time": "2024-04-12T12:08:07.307690",
     "status": "completed"
    },
    "tags": []
   },
   "outputs": [],
   "source": [
    "test = test_data.drop(['ID', 'Candidate','Constituency','Debt Ratio'], axis=1)"
   ]
  },
  {
   "cell_type": "code",
   "execution_count": 41,
   "id": "68ef48ab",
   "metadata": {
    "execution": {
     "iopub.execute_input": "2024-04-12T12:08:07.376415Z",
     "iopub.status.busy": "2024-04-12T12:08:07.375728Z",
     "iopub.status.idle": "2024-04-12T12:08:07.477878Z",
     "shell.execute_reply": "2024-04-12T12:08:07.476664Z"
    },
    "papermill": {
     "duration": 0.125344,
     "end_time": "2024-04-12T12:08:07.480545",
     "exception": false,
     "start_time": "2024-04-12T12:08:07.355201",
     "status": "completed"
    },
    "tags": []
   },
   "outputs": [],
   "source": [
    "y_prediction = knn_classifier.predict(test)"
   ]
  },
  {
   "cell_type": "code",
   "execution_count": 42,
   "id": "ffa075b7",
   "metadata": {
    "execution": {
     "iopub.execute_input": "2024-04-12T12:08:07.519566Z",
     "iopub.status.busy": "2024-04-12T12:08:07.519153Z",
     "iopub.status.idle": "2024-04-12T12:08:07.524509Z",
     "shell.execute_reply": "2024-04-12T12:08:07.523481Z"
    },
    "papermill": {
     "duration": 0.027413,
     "end_time": "2024-04-12T12:08:07.526716",
     "exception": false,
     "start_time": "2024-04-12T12:08:07.499303",
     "status": "completed"
    },
    "tags": []
   },
   "outputs": [],
   "source": [
    "res = pd.DataFrame(y_prediction)"
   ]
  },
  {
   "cell_type": "code",
   "execution_count": 43,
   "id": "a8e0c62a",
   "metadata": {
    "execution": {
     "iopub.execute_input": "2024-04-12T12:08:07.566091Z",
     "iopub.status.busy": "2024-04-12T12:08:07.565407Z",
     "iopub.status.idle": "2024-04-12T12:08:07.570806Z",
     "shell.execute_reply": "2024-04-12T12:08:07.569663Z"
    },
    "papermill": {
     "duration": 0.027854,
     "end_time": "2024-04-12T12:08:07.573093",
     "exception": false,
     "start_time": "2024-04-12T12:08:07.545239",
     "status": "completed"
    },
    "tags": []
   },
   "outputs": [],
   "source": [
    "res.columns = ['Education']"
   ]
  },
  {
   "cell_type": "code",
   "execution_count": 44,
   "id": "8c63af0c",
   "metadata": {
    "execution": {
     "iopub.execute_input": "2024-04-12T12:08:07.612426Z",
     "iopub.status.busy": "2024-04-12T12:08:07.611634Z",
     "iopub.status.idle": "2024-04-12T12:08:07.616641Z",
     "shell.execute_reply": "2024-04-12T12:08:07.615766Z"
    },
    "papermill": {
     "duration": 0.027169,
     "end_time": "2024-04-12T12:08:07.618930",
     "exception": false,
     "start_time": "2024-04-12T12:08:07.591761",
     "status": "completed"
    },
    "tags": []
   },
   "outputs": [],
   "source": [
    "y1 = pd.DataFrame(test_data['ID'])"
   ]
  },
  {
   "cell_type": "code",
   "execution_count": 45,
   "id": "6aba75d3",
   "metadata": {
    "execution": {
     "iopub.execute_input": "2024-04-12T12:08:07.658231Z",
     "iopub.status.busy": "2024-04-12T12:08:07.657479Z",
     "iopub.status.idle": "2024-04-12T12:08:07.663558Z",
     "shell.execute_reply": "2024-04-12T12:08:07.662355Z"
    },
    "papermill": {
     "duration": 0.028629,
     "end_time": "2024-04-12T12:08:07.666005",
     "exception": false,
     "start_time": "2024-04-12T12:08:07.637376",
     "status": "completed"
    },
    "tags": []
   },
   "outputs": [],
   "source": [
    "y1['Education'] = res['Education']\n",
    "y1.reset_index(drop=True, inplace=True)"
   ]
  },
  {
   "cell_type": "code",
   "execution_count": 46,
   "id": "d0c57805",
   "metadata": {
    "execution": {
     "iopub.execute_input": "2024-04-12T12:08:07.705997Z",
     "iopub.status.busy": "2024-04-12T12:08:07.705565Z",
     "iopub.status.idle": "2024-04-12T12:08:07.716134Z",
     "shell.execute_reply": "2024-04-12T12:08:07.715033Z"
    },
    "papermill": {
     "duration": 0.032901,
     "end_time": "2024-04-12T12:08:07.718845",
     "exception": false,
     "start_time": "2024-04-12T12:08:07.685944",
     "status": "completed"
    },
    "tags": []
   },
   "outputs": [],
   "source": [
    "y1.to_csv('/kaggle/working/submission.csv',index=False)"
   ]
  },
  {
   "cell_type": "code",
   "execution_count": null,
   "id": "91b06c7c",
   "metadata": {
    "papermill": {
     "duration": 0.018708,
     "end_time": "2024-04-12T12:08:07.756773",
     "exception": false,
     "start_time": "2024-04-12T12:08:07.738065",
     "status": "completed"
    },
    "tags": []
   },
   "outputs": [],
   "source": []
  }
 ],
 "metadata": {
  "kaggle": {
   "accelerator": "none",
   "dataSources": [
    {
     "databundleVersionId": 8059709,
     "sourceId": 72632,
     "sourceType": "competition"
    }
   ],
   "dockerImageVersionId": 30684,
   "isGpuEnabled": false,
   "isInternetEnabled": false,
   "language": "python",
   "sourceType": "notebook"
  },
  "kernelspec": {
   "display_name": "Python 3",
   "language": "python",
   "name": "python3"
  },
  "language_info": {
   "codemirror_mode": {
    "name": "ipython",
    "version": 3
   },
   "file_extension": ".py",
   "mimetype": "text/x-python",
   "name": "python",
   "nbconvert_exporter": "python",
   "pygments_lexer": "ipython3",
   "version": "3.10.13"
  },
  "papermill": {
   "default_parameters": {},
   "duration": 11.508865,
   "end_time": "2024-04-12T12:08:08.398476",
   "environment_variables": {},
   "exception": null,
   "input_path": "__notebook__.ipynb",
   "output_path": "__notebook__.ipynb",
   "parameters": {},
   "start_time": "2024-04-12T12:07:56.889611",
   "version": "2.5.0"
  }
 },
 "nbformat": 4,
 "nbformat_minor": 5
}
